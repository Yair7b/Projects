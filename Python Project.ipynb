{
 "cells": [
  {
   "cell_type": "markdown",
   "id": "42b607a1-5f59-4087-8ee8-90d03e295a0b",
   "metadata": {},
   "source": [
    "# YSO Telecom business review"
   ]
  },
  {
   "cell_type": "markdown",
   "id": "6a0fb5a8-496b-43c9-95de-f6ffe838b8fe",
   "metadata": {},
   "source": [
    "## Python Project "
   ]
  },
  {
   "cell_type": "markdown",
   "id": "e36ea14e-e396-45e0-889e-c810d6f06e23",
   "metadata": {},
   "source": [
    "#### Submitted by: Yair Barel • Shlomi Kiko • Ori Valdman"
   ]
  },
  {
   "cell_type": "markdown",
   "id": "a9c6d021-7c21-400a-8033-3c5fa56958b4",
   "metadata": {},
   "source": [
    "###"
   ]
  },
  {
   "cell_type": "code",
   "execution_count": null,
   "id": "01b66018-4935-4a94-a23e-baa3629f66e0",
   "metadata": {},
   "outputs": [],
   "source": [
    "import pandas as pd\n",
    "import numpy as np\n",
    "import matplotlib.pyplot as plt\n",
    "import seaborn as sns"
   ]
  },
  {
   "cell_type": "code",
   "execution_count": null,
   "id": "ebe2eac7-d1a9-41de-8d0c-bddeccdbb74d",
   "metadata": {},
   "outputs": [],
   "source": [
    "df = pd.read_csv (r'C:\\Users\\ybarel\\Desktop\\Documents\\Data Analyst Course\\Python Project\\Data Source\\churn.csv')\n",
    "\n",
    "#Rename all columns\n",
    "df = df.rename(columns=str.lower)\n",
    "\n",
    "# Merge all the redundant values into 'no' or 'yes'\n",
    "df.loc[(df['internetservice']    == 'No'), 'internetservice'] = 'No Internet Service'\n",
    "df.loc[(df['multiplelines']      == 'No phone service'),'multiplelines'] = 'No'\n",
    "df.loc[(df['onlinesecurity']     == 'No internet service'),'onlinesecurity'] = 'No'\n",
    "df.loc[(df['onlinebackup']       == 'No internet service'),'onlinebackup'] = 'No'\n",
    "df.loc[(df['deviceprotection']   == 'No internet service'),'deviceprotection'] = 'No'\n",
    "df.loc[(df['techsupport']        == 'No internet service'),'techsupport'] = 'No'\n",
    "df.loc[(df['streamingtv']        == 'No internet service'),'streamingtv'] = 'No'\n",
    "df.loc[(df['streamingmovies']    == 'No internet service'),'streamingmovies'] = 'No'\n",
    "\n",
    "# convert YES and NO values into 1 and 0\n",
    "df.churn                         = df.churn.map(dict(Yes=1, No=0))\n",
    "df.multiplelines                 = df.multiplelines.map(dict(Yes=1, No=0))\n",
    "df.onlinesecurity                = df.onlinesecurity.map(dict(Yes=1, No=0))\n",
    "df.onlinebackup                  = df.onlinebackup.map(dict(Yes=1, No=0))\n",
    "df.deviceprotection              = df.deviceprotection.map(dict(Yes=1, No=0))\n",
    "df.techsupport                   = df.techsupport.map(dict(Yes=1, No=0))\n",
    "df.streamingtv                   = df.streamingtv.map(dict(Yes=1, No=0))\n",
    "df.streamingmovies               = df.streamingmovies.map(dict(Yes=1, No=0))\n",
    "df.partner                       = df.partner.map(dict(Yes=1, No=0))\n",
    "df.dependents                    = df.dependents.map(dict(Yes=1, No=0))\n",
    "df.phoneservice                  = df.phoneservice.map(dict(Yes=1, No=0))\n",
    "df.paperlessbilling              = df.paperlessbilling.map(dict(Yes=1, No=0))\n",
    "\n",
    "# convert Object to Float\n",
    "df['totalcharges']               = pd.to_numeric(df['totalcharges'],errors='coerce')\n",
    "df['totalcharges']               = df['totalcharges'].astype('float64')\n",
    "\n",
    "# convert Object to string\n",
    "df['customerid']                 = df['customerid'].astype('string')\n",
    "df['gender']                     = df['gender'].astype('string')\n",
    "df['contract']                   = df['contract'].astype('string')\n",
    "df['paymentmethod']              = df['paymentmethod'].astype('string')\n",
    "df['internetservice']            = df['internetservice'].astype('string')\n",
    "\n",
    "# Fill 'TotalCharges' empty values with 'MonthlyCharges' values\n",
    "df['totalcharges'].fillna(df['monthlycharges'], inplace=True)"
   ]
  },
  {
   "cell_type": "markdown",
   "id": "71c17c0e-6cfa-414f-a275-34eef6607a1c",
   "metadata": {},
   "source": [
    "##### Total Customers and Total Churn \n",
    "***"
   ]
  },
  {
   "cell_type": "code",
   "execution_count": null,
   "id": "74826998-2202-40bc-aba2-b76ee0a30ad8",
   "metadata": {},
   "outputs": [],
   "source": [
    "Total_Churn = sum(df['churn'])\n",
    "Total_Customers = len(df)\n",
    "\n",
    "print('\\nThere are %d customers in records\\nThe number of churn customers is %d which makes the churn rate %f%%\\n\\n' \n",
    "% (Total_Customers,Total_Churn,(Total_Churn/Total_Customers*100)))\n",
    "\n",
    "Churn_Pie    = df['churn'].value_counts()\n",
    "LegendLabels = ['Active (73.5%)','Churn (26.5%)']\n",
    "PieLabels    = None\n",
    "PieColors    = [\"#74959A\",\"#F1E0AC\"]\n",
    "\n",
    "plt.figure                (figsize = (10,10)                                                                      )\n",
    "Churn_Pie.plot.pie        (autopct='%1.1f%%', labels = PieLabels,colors = PieColors,textprops = {'fontsize': 18}  )\n",
    "plt.legend                (LegendLabels ,prop={\"size\":16}, loc=2                                                  )\n",
    "plt.xlabel                (None                                                                                   )\n",
    "plt.ylabel                (None                                                                                   )\n",
    "plt.title                 (None                                                                                   )\n",
    "plt.xticks                (rotation = 0                                                                           )\n",
    "plt.savefig               ('Total Churn Customers.png', dpi=300, bbox_inches='tight'                              )\n",
    "plt.show                  (                                                                                       )"
   ]
  },
  {
   "cell_type": "markdown",
   "id": "99b05694-16dc-4f0c-b6bf-ccb7ab33da78",
   "metadata": {},
   "source": [
    "##### Churn by Contract Type\n",
    "***"
   ]
  },
  {
   "cell_type": "code",
   "execution_count": null,
   "id": "02662705-6511-4974-ab5c-a4f194214680",
   "metadata": {},
   "outputs": [],
   "source": [
    "Churn_Contract = df.groupby('contract').churn.mean()\n",
    "Churn_Contract = pd.DataFrame(Churn_Contract)\n",
    "\n",
    "Month_to_month = Churn_Contract.at['Month-to-month','churn']\n",
    "One_Year       = Churn_Contract.at['One year','churn']\n",
    "Two_Year       = Churn_Contract.at['Two year','churn']\n",
    "\n",
    "print('\\nWe measure the customers Churn by the contract types:\\n\\nMonth-to-Month contract  %f%%\\nOne-Year contract        %f%%\\nTwo-Years contract       %f%%\\n\\n' \n",
    "% (Month_to_month*100,One_Year*100,Two_Year*100))\n",
    "\n",
    "\n",
    "Dist_Contract = df.contract.value_counts(normalize = True).sort_index()\n",
    "Churn_Contract = df.groupby('contract').churn.mean()\n",
    "Contract_Dist_Churn = pd.DataFrame({'Contract Type':Dist_Contract,'Churn Rate':Churn_Contract})\n",
    "\n",
    "Colors    = [\"#5B7DB1\",\"#61A4BC\"]\n",
    "\n",
    "ax = Contract_Dist_Churn.plot  (kind = 'bar',color = Colors,figsize = (15,10)                  )\n",
    "plt.ylabel                     (None                                                           )\n",
    "plt.title                      ('Churn by Contract Types', fontsize = 16, loc='left'           )\n",
    "plt.xticks                     (rotation = 0,size = 14                                         )\n",
    "plt.yticks                     (plt.yticks()[0], ['{:,.0%}'.format(x) for x in plt.yticks()[0]])\n",
    "plt.legend                     (prop={\"size\":14}                                               )\n",
    "\n",
    "for p in ax.patches:\n",
    "    ax.annotate('{:.1f}%'.format(100*p.get_height()), (p.get_x() * 1.005, p.get_height() * 1.005),size = 15,color = '#545454')\n",
    "    \n",
    "plt.savefig                    ('Churn by Contract Types.png', dpi=300, bbox_inches='tight'    )\n",
    "plt.show                       (                                                               )"
   ]
  },
  {
   "cell_type": "markdown",
   "id": "866508c9-828e-45e2-a0a0-deb6e8e13941",
   "metadata": {},
   "source": [
    "##### Churn by Tenure\n",
    "***"
   ]
  },
  {
   "cell_type": "code",
   "execution_count": null,
   "id": "2ad9a0d0-f37d-4bb7-a6e2-8aff2071f405",
   "metadata": {},
   "outputs": [],
   "source": [
    "plt.figure                 (figsize = (10,8)                                       )\n",
    "plt.hist                   (df['tenure'], bins = 'auto', alpha = 0.7, rwidth = 0.85)\n",
    "plt.xlabel                 ('Tenure', fontsize = 14                                )\n",
    "plt.ylabel                 ('Frequency', fontsize = 14                             )\n",
    "plt.title                  ('Tenure Frequency', fontsize = 16, loc='left'          )\n",
    "plt.show                   (                                                       )"
   ]
  },
  {
   "cell_type": "code",
   "execution_count": null,
   "id": "8b4f9abf-5833-4c51-8f1a-98b9628fd20c",
   "metadata": {},
   "outputs": [],
   "source": [
    "Churn_Tenure = df.groupby('tenure').churn.mean()\n",
    "\n",
    "plt.figure                 (figsize = (25,8)                                               )\n",
    "Churn_Tenure.plot          (kind = 'bar', color = '#61A4BC'                                )\n",
    "plt.xlabel                 ('Tenure', fontsize = 14                                        )\n",
    "plt.ylabel                 ('Churn Rate', fontsize = 14                                    )\n",
    "plt.title                  ('Churn by Tenure', fontsize = 16,loc='left'                    )\n",
    "plt.xticks                 (rotation = 0                                                   )\n",
    "plt.yticks                 (plt.yticks()[0], ['{:,.0%}'.format(x) for x in plt.yticks()[0]])\n",
    "plt.savefig                ('Churn by Tenure.png', dpi=300, bbox_inches='tight'            )\n",
    "plt.show                   (                                                               )"
   ]
  },
  {
   "cell_type": "code",
   "execution_count": null,
   "id": "3775ff4e-9757-4a97-8174-f81aed2893c0",
   "metadata": {},
   "outputs": [],
   "source": [
    "Churn_Tenure = df.groupby('tenure').churn.mean()\n",
    "Churn_Tenure = pd.DataFrame(Churn_Tenure)\n",
    "Churn_Tenure.reset_index(inplace=True)\n",
    "\n",
    "Colors    = [\"#61A4BC\"]\n",
    "\n",
    "Churn_Tenure.plot.scatter  (x = 'tenure', y = 'churn',figsize = (10,10),s = 30, c = Colors )\n",
    "plt.xlabel                 ('Tenure', fontsize = 14                                        )\n",
    "plt.ylabel                 ('Churn Rate', fontsize = 14                                    )\n",
    "plt.title                  ('Churn by Tenure', fontsize = 16,loc = 'left'                  )\n",
    "plt.xticks                 (rotation = 0                                                   )\n",
    "plt.yticks                 (plt.yticks()[0], ['{:,.0%}'.format(x) for x in plt.yticks()[0]])\n",
    "plt.savefig                ('Churn by TenureGroup.png', dpi=300, bbox_inches='tight'      )\n",
    "\n",
    "plt.show                   (                                                               )"
   ]
  },
  {
   "cell_type": "code",
   "execution_count": null,
   "id": "9353be2f-661c-41ee-9d99-fc718fb470a2",
   "metadata": {
    "tags": []
   },
   "outputs": [],
   "source": [
    "df['tenuregroup'] = None\n",
    "\n",
    "df.loc[(df['tenure'] >= 0)  & (df['tenure'] <= 12),'tenuregroup'] = '01'\n",
    "df.loc[(df['tenure'] >= 13) & (df['tenure'] <= 24),'tenuregroup'] = '02'\n",
    "df.loc[(df['tenure'] >= 25) & (df['tenure'] <= 36),'tenuregroup'] = '03'\n",
    "df.loc[(df['tenure'] >= 37) & (df['tenure'] <= 48),'tenuregroup'] = '04'\n",
    "df.loc[(df['tenure'] >= 49) & (df['tenure'] <= 60),'tenuregroup'] = '05'\n",
    "df.loc[(df['tenure'] >= 61) & (df['tenure'] <= 72),'tenuregroup'] = '06'\n",
    "\n",
    "df['tenuregroup'] = df['tenuregroup'].astype('int64')\n",
    "\n",
    "Dist_TenureGroup = df.tenuregroup.value_counts(normalize = True).sort_index()\n",
    "Churn_TenureGroup = df.groupby('tenuregroup').churn.mean()\n",
    "TenureGroup_Dist_Churn = pd.DataFrame({'Tenure Year Group':Dist_TenureGroup,'Churn Rate':Churn_TenureGroup})\n",
    "\n",
    "\n",
    "Colors    = [\"#5B7DB1\",\"#61A4BC\"]\n",
    "\n",
    "ax = TenureGroup_Dist_Churn.plot  (kind='bar',   color = Colors, width=0.7,figsize = (18,10)      )\n",
    "plt.xlabel                        (None                                                           )\n",
    "plt.ylabel                        (None                                                           )\n",
    "plt.title                         ('Churn by Tenure Year Group', fontsize = 16, loc='left'        )\n",
    "plt.xticks                        (size = 13, rotation = 0                                        )\n",
    "plt.yticks                        (plt.yticks()[0], ['{:,.0%}'.format(x) for x in plt.yticks()[0]])\n",
    "plt.legend                        (prop={\"size\":14}                                               )\n",
    "\n",
    "for p in ax.patches:\n",
    "    ax.annotate('{:.1f}%'.format(100*p.get_height()), (p.get_x() * 1.005, p.get_height() * 1.005),size = 15,color = '#545454')\n",
    "\n",
    "plt.savefig                       ('Churn by TenureGroup.png', dpi=300, bbox_inches='tight'      )\n",
    "plt.show                          (                                                              )"
   ]
  },
  {
   "cell_type": "markdown",
   "id": "21f6a18e-4225-48fe-816d-0fa3de0f19df",
   "metadata": {},
   "source": [
    "##### Churn by Internet Service\n",
    "***"
   ]
  },
  {
   "cell_type": "code",
   "execution_count": null,
   "id": "5a832ea7-ca8e-4532-adab-df47924ba498",
   "metadata": {},
   "outputs": [],
   "source": [
    "Dist_InternetService = df.internetservice.value_counts(normalize = True).sort_values(ascending = True)\n",
    "Churn_InternetService = df.groupby('internetservice').churn.mean()\n",
    "InternetService_Dist_Churn = pd.DataFrame({'Internet Service':Dist_InternetService,'Churn Rate':Churn_InternetService})\n",
    "\n",
    "Colors    = [\"#5B7DB1\",\"#61A4BC\"]\n",
    "\n",
    "ax = InternetService_Dist_Churn.plot(kind = 'bar', color = Colors, figsize = (15,10)                                         )\n",
    "plt.xlabel                          (''                                                                                      )\n",
    "plt.ylabel                          (None                                                                                    )\n",
    "plt.title                           ('Churn by Internet Service', fontsize = 16, loc='left'                                  )\n",
    "plt.xticks                          (rotation = 0, size = 14                                                                 )\n",
    "plt.yticks                          (plt.yticks()[0], ['{:,.0%}'.format(x) for x in plt.yticks()[0]]                         )\n",
    "plt.legend                          (prop={\"size\":14}                                                                        )\n",
    "\n",
    "for p in ax.patches:\n",
    "    ax.annotate('{:.1f}%'.format(100*p.get_height()), (p.get_x() * 1.005, p.get_height() * 1.005),size = 15,color = '#545454')\n",
    "\n",
    "plt.savefig                         ('Churn by Internet Service.png', dpi=300, bbox_inches='tight'                           )\n",
    "plt.show                            (                                                                                        )"
   ]
  },
  {
   "cell_type": "markdown",
   "id": "60e4a2e2-587d-4e46-9a65-266d3b269794",
   "metadata": {},
   "source": [
    "##### Churn by Payment Method\n",
    "***"
   ]
  },
  {
   "cell_type": "code",
   "execution_count": null,
   "id": "4af2376e-4d4e-4ad0-bb1c-75cfa46facdc",
   "metadata": {},
   "outputs": [],
   "source": [
    "Dist_PaymentMethod = df.paymentmethod.value_counts(normalize = True).sort_values(ascending = True)\n",
    "Churn_PaymentMethod = df.groupby('paymentmethod').churn.mean().sort_values()\n",
    "InternetService_Dist_Churn = pd.DataFrame({'PaymentMethod':Dist_PaymentMethod,'Churn Rate':Churn_PaymentMethod})\n",
    "\n",
    "Colors    = [\"#5B7DB1\",\"#61A4BC\"]\n",
    "\n",
    "ax = InternetService_Dist_Churn.plot  (kind = 'barh', color = Colors, figsize = (15,10)               )\n",
    "plt.xlabel                            (None                                                           )\n",
    "plt.ylabel                            (None                                                           )\n",
    "plt.title                             ('Churn by Payment Method', fontsize = 16,loc='left'            )\n",
    "plt.xticks                            (plt.xticks()[0], ['{:,.0%}'.format(x) for x in plt.xticks()[0]])\n",
    "plt.yticks                            (size = 14                                                      )\n",
    "plt.legend                            (prop={\"size\":14}                                               )\n",
    "\n",
    "#for p in ax.patches:\n",
    "#    ax.annotate('{:.1f}%'.format(100*p.get_height()), (p.get_x() * 1.005, p.get_height() * 1.005),size = 15,color = '#545454')\n",
    "\n",
    "plt.savefig                           ('Churn by Payment Method.png', dpi=300, bbox_inches='tight'    )\n",
    "plt.show                              (                                                               )"
   ]
  },
  {
   "cell_type": "markdown",
   "id": "a6315670-9fde-423f-ade9-54ced53f9d2e",
   "metadata": {},
   "source": [
    "##### Churn by Paperless Billing\n",
    "***"
   ]
  },
  {
   "cell_type": "code",
   "execution_count": null,
   "id": "b7883f32-45a0-4615-89b0-c2784d29fcde",
   "metadata": {},
   "outputs": [],
   "source": [
    "Dist_PaperlessBilling = df.paperlessbilling.value_counts(normalize = True).sort_values(ascending = True)\n",
    "Churn_PaperlessBilling = df.groupby('paperlessbilling').churn.mean().sort_values()\n",
    "InternetService_Dist_Churn = pd.DataFrame({'Billing Type':Dist_PaperlessBilling,'Churn Rate':Churn_PaperlessBilling})\n",
    "\n",
    "Colors    = [\"#5B7DB1\",\"#61A4BC\"]\n",
    "\n",
    "ax = InternetService_Dist_Churn.plot  (kind='bar',   color = Colors, figsize = (15,10)                )\n",
    "plt.xlabel                            (None                                                           )\n",
    "plt.ylabel                            (None                                                           )\n",
    "plt.title                             ('Churn by Billing Type', fontsize = 16, loc='left'             )\n",
    "positions =                           (0, 1                                                           )\n",
    "labels    =                           ('Paper Billing','Electronic Billing'                           )\n",
    "plt.xticks                            (positions, labels,size = 14, rotation = 0                      )\n",
    "plt.yticks                            (plt.yticks()[0], ['{:,.0%}'.format(x) for x in plt.yticks()[0]])\n",
    "plt.legend                            (prop={\"size\":14}                                               )\n",
    "\n",
    "for p in ax.patches:\n",
    "    ax.annotate('{:.1f}%'.format(100*p.get_height()), (p.get_x() * 1.005, p.get_height() * 1.005),size = 15,color = '#545454')\n",
    "    \n",
    "plt.savefig                           ('Churn by Billing Type.png', dpi=300, bbox_inches='tight'      )\n",
    "plt.show                              (                                                               )"
   ]
  },
  {
   "cell_type": "markdown",
   "id": "99b198e2-f829-41cb-b836-00b6179dd7e3",
   "metadata": {},
   "source": [
    "##### Churn by Senior Citizen\n",
    "***"
   ]
  },
  {
   "cell_type": "code",
   "execution_count": null,
   "id": "0685f44e-16e6-420b-a0ae-e7385995c461",
   "metadata": {},
   "outputs": [],
   "source": [
    "Dist_SeniorCitizen = df.seniorcitizen.value_counts(normalize = True).sort_values(ascending = True)\n",
    "Churn_SeniorCitizen = df.groupby('seniorcitizen').churn.mean().sort_values()\n",
    "SeniorCitizen_Dist_Churn = pd.DataFrame({'Senior Citizen':Dist_SeniorCitizen,'Churn Rate':Churn_SeniorCitizen})\n",
    "\n",
    "Colors    = [\"#5B7DB1\",\"#61A4BC\"]\n",
    "\n",
    "ax = SeniorCitizen_Dist_Churn.plot  (kind='bar',   color = Colors,figsize = (15,10)                 )\n",
    "plt.xlabel                          (None                                                           )\n",
    "plt.ylabel                          (None                                                           )\n",
    "plt.title                           ('Churn by Citizen Seniority', fontsize = 16, loc='left'        )\n",
    "positions =                         (0, 1                                                           )\n",
    "labels    =                         ('Not Senior','Senior'                                          )\n",
    "plt.xticks                          (positions, labels,size = 14, rotation = 0                      )\n",
    "plt.yticks                          (plt.yticks()[0], ['{:,.0%}'.format(x) for x in plt.yticks()[0]])\n",
    "plt.legend                          (prop={\"size\":14}                                               )\n",
    "\n",
    "for p in ax.patches:\n",
    "    ax.annotate('{:.1f}%'.format(100*p.get_height()), (p.get_x() * 1.005, p.get_height() * 1.005),size = 15,color = '#545454')\n",
    "\n",
    "plt.savefig                         ('Churn by Citizen Seniority.png', dpi=300, bbox_inches='tight' )\n",
    "plt.show                            (                                                               )"
   ]
  },
  {
   "cell_type": "markdown",
   "id": "f3c9cf5c-a8f5-418b-8395-22481a9ae702",
   "metadata": {},
   "source": [
    "##### Churn by Other Services\n",
    "***"
   ]
  },
  {
   "cell_type": "code",
   "execution_count": null,
   "id": "226d6fe1-f339-4beb-b4c1-3cbe884256b6",
   "metadata": {},
   "outputs": [],
   "source": [
    "Churn_OnlineSecurity = df.groupby('onlinesecurity').churn.mean()\n",
    "\n",
    "Colors    = [\"#5B7DB1\",\"#61A4BC\"]\n",
    "\n",
    "plt.figure                     (figsize = (10,10)                                              )\n",
    "ax = Churn_OnlineSecurity.plot (kind = 'bar', color = Colors                                   )\n",
    "plt.xlabel                     (''                                                             )\n",
    "plt.ylabel                     ('Churn Rate', fontsize = 13                                    )\n",
    "plt.title                      ('Churn by Online Security', fontsize = 14                      )\n",
    "plt.xticks                     (rotation = 0,size = 13                                         )\n",
    "positions =                    (0, 1                                                           )\n",
    "labels    =                    ('Online Security Not Included','Online Security Included'      )\n",
    "plt.xticks                     (positions, labels,size = 14, rotation = 0                      )\n",
    "plt.yticks                     (plt.yticks()[0], ['{:,.0%}'.format(x) for x in plt.yticks()[0]])\n",
    "\n",
    "for p in ax.patches:\n",
    "    ax.annotate('{:.1f}%'.format(100*p.get_height()), (p.get_x() * 1.005, p.get_height() * 1.005),size = 15,color = '#545454')\n",
    "    \n",
    "plt.show                       (                                                               )"
   ]
  },
  {
   "cell_type": "code",
   "execution_count": null,
   "id": "788c2ef9-d5bb-4403-ab95-48b0dc55847f",
   "metadata": {},
   "outputs": [],
   "source": [
    "Churn_OnlineBackup = df.groupby('onlinebackup').churn.mean()\n",
    "\n",
    "Colors    = [\"#5B7DB1\",\"#61A4BC\"]\n",
    "\n",
    "plt.figure                     (figsize = (10,10)                                         )\n",
    "ax = Churn_OnlineBackup.plot   (kind = 'bar', color = Colors                              )\n",
    "plt.xlabel                     (''                                                        )\n",
    "plt.ylabel                     ('Churn Rate', fontsize = 13                               )\n",
    "plt.title                      ('Churn by Online Backup', fontsize = 14                   )\n",
    "positions =                    (0, 1                                                      )\n",
    "labels    =                    ('Online Backup Not Included','Online Backup Included'     )\n",
    "plt.xticks                     (positions, labels,size = 14, rotation = 0                 )\n",
    "\n",
    "for p in ax.patches:\n",
    "    ax.annotate('{:.1f}%'.format(100*p.get_height()), (p.get_x() * 1.005, p.get_height() * 1.005),size = 15,color = '#545454')\n",
    "                  \n",
    "plt.show                       (                                                          )"
   ]
  },
  {
   "cell_type": "code",
   "execution_count": null,
   "id": "b5982a83-f714-4e0d-90b2-96db9a112187",
   "metadata": {},
   "outputs": [],
   "source": [
    "Churn_TechSupport = df.groupby('techsupport').churn.mean()\n",
    "\n",
    "Colors    = [\"#5B7DB1\",\"#61A4BC\"]\n",
    "\n",
    "plt.figure                     (figsize = (10,10)                                      )\n",
    "ax = Churn_TechSupport.plot    (kind = 'bar', color = Colors                           )\n",
    "plt.xlabel                     (''                                                     )\n",
    "plt.ylabel                     ('Churn Rate', fontsize = 13                            )\n",
    "plt.title                      ('Churn by Tech Support', fontsize = 14                 )\n",
    "positions =                    (0, 1                                                   )\n",
    "labels    =                    ('Tech Support Not Included','Tech Support Included'    )\n",
    "plt.xticks                     (positions, labels,size = 14, rotation = 0              )\n",
    "\n",
    "for p in ax.patches:\n",
    "    ax.annotate('{:.1f}%'.format(100*p.get_height()), (p.get_x() * 1.005, p.get_height() * 1.005),size = 15,color = '#545454')\n",
    "    \n",
    "\n",
    "plt.show                       (                                                       )"
   ]
  },
  {
   "cell_type": "code",
   "execution_count": null,
   "id": "7ce4ac06-8824-4f8a-a880-99fdc42ae265",
   "metadata": {},
   "outputs": [],
   "source": [
    "Churn_PhoneService = df.groupby('phoneservice').churn.mean()\n",
    "\n",
    "Colors    = [\"#5B7DB1\",\"#61A4BC\"]\n",
    "\n",
    "plt.figure                     (figsize = (10,10)                                    )\n",
    "ax = Churn_PhoneService.plot   (kind = 'bar', color = Colors                         )\n",
    "plt.xlabel                     (''                                                   )\n",
    "plt.ylabel                     ('Churn Rate', fontsize = 13                          )\n",
    "plt.title                      ('Churn by Phone Service', fontsize = 14              )\n",
    "positions =                    (0, 1                                                 )\n",
    "labels    =                    ('Phone Service Not Included','Phone Service Included')\n",
    "plt.xticks                     (positions, labels,size = 14, rotation = 0            )\n",
    "\n",
    "for p in ax.patches:\n",
    "    ax.annotate('{:.1f}%'.format(100*p.get_height()), (p.get_x() * 1.005, p.get_height() * 1.005),size = 15,color = '#545454')\n",
    "    \n",
    "plt.show                       (                                                     )"
   ]
  },
  {
   "cell_type": "code",
   "execution_count": null,
   "id": "9b98283c-ea4b-4b7e-95b7-4a837c41f1da",
   "metadata": {},
   "outputs": [],
   "source": [
    "Churn_MultipleLines = df.groupby('multiplelines').churn.mean()\n",
    "\n",
    "Colors    = [\"#5B7DB1\",\"#61A4BC\"]\n",
    "\n",
    "plt.figure                     (figsize = (10,10)                           )\n",
    "ax = Churn_MultipleLines.plot  (kind = 'bar', color = Colors                )\n",
    "plt.xlabel                     (''                                          )\n",
    "plt.ylabel                     ('Churn Rate', fontsize = 13                 )\n",
    "plt.title                      ('Churn by Multiple Lines', fontsize = 14    )\n",
    "positions =                    (0, 1                                        )\n",
    "labels    =                    ('No Multiple Lines','Multiple Lines'        )\n",
    "plt.xticks                     (positions, labels,size = 14, rotation = 0   )\n",
    "\n",
    "for p in ax.patches:\n",
    "    ax.annotate('{:.1f}%'.format(100*p.get_height()), (p.get_x() * 1.005, p.get_height() * 1.005),size = 15,color = '#545454')\n",
    "\n",
    "plt.show                       (                                            )"
   ]
  },
  {
   "cell_type": "markdown",
   "id": "db4a225f-2b9a-4369-b772-be5a499d014a",
   "metadata": {},
   "source": [
    "##### Average Tenure by Contract Type\n",
    "***"
   ]
  },
  {
   "cell_type": "code",
   "execution_count": null,
   "id": "305ed5f8-2db1-4eeb-9907-ed30ba4a87ac",
   "metadata": {},
   "outputs": [],
   "source": [
    "ContractByTenure = df.groupby(['contract']).tenure.mean()\n",
    "ContractByTenure = pd.DataFrame(ContractByTenure)\n",
    "ContractByTenure.reset_index(inplace=True)\n",
    "\n",
    "Colors    = [\"#A2D5AB\",\"#5B7DB1\",\"#61A4BC\"]\n",
    "\n",
    "ax = ContractByTenure['tenure'].plot.bar (color = Colors, figsize = (15, 10)                                )\n",
    "positions =                              (0, 1, 2                                                           )\n",
    "labels    =                              ('Month-to-month','One year','Two year'                            )\n",
    "plt.xticks                               (positions, labels,size = 14, rotation = 0                         )\n",
    "plt.yticks                               (size = 13                                                         )\n",
    "plt.title                                ('Average Tenure by Contract Type', fontsize = 16,loc = 'left'     )\n",
    "\n",
    "for p in ax.patches:\n",
    "    ax.annotate('{:.1f}'.format(p.get_height()), (p.get_x() * 1.005, p.get_height() * 1.005),size = 15,color = '#545454')\n",
    "    \n",
    "plt.savefig                             ('Average Tenure by Contract Type.png', dpi=300, bbox_inches='tight')"
   ]
  },
  {
   "cell_type": "markdown",
   "id": "e7c923c6-a463-447b-a2e8-b8456d9d064c",
   "metadata": {},
   "source": [
    "##### Average Monthly Charge\n",
    "***"
   ]
  },
  {
   "cell_type": "code",
   "execution_count": null,
   "id": "fa1a48aa-aed3-4380-9e0c-0286eda6866e",
   "metadata": {},
   "outputs": [],
   "source": [
    "GroupByMonthlyCharges = df.groupby(['churn'])\n",
    "AverageMonthlyCharge  = GroupByMonthlyCharges['monthlycharges'].describe().sort_values(by=[('mean')], ascending=False)\n",
    "\n",
    "Colors    = [\"#F1E0AC\",\"#74959A\"]\n",
    "\n",
    "plt.figure                              (figsize = (10,10)                                             )\n",
    "ax = AverageMonthlyCharge['mean'].plot  (kind = 'bar', color = Colors                                  )\n",
    "plt.xlabel                              (''                                                            )\n",
    "plt.ylabel                              (None                                                          )\n",
    "plt.title                               ('Average Monthly Charges', fontsize = 16, loc = 'left'        )\n",
    "positions =                             (0, 1                                                          )\n",
    "labels    =                             ('Churn','Active'                                              )\n",
    "plt.xticks                              (positions, labels,size = 14, rotation = 0                     )\n",
    "\n",
    "for p in ax.patches:\n",
    "    ax.annotate('{:.1f}'.format(p.get_height()), (p.get_x() * 1.005, p.get_height() * 1.005),size = 15,color = '#545454')\n",
    "    \n",
    "plt.savefig                             ('Average Monthly Charge.png', dpi=300, bbox_inches='tight'    )\n",
    "plt.show                                (                                                              )"
   ]
  },
  {
   "cell_type": "code",
   "execution_count": null,
   "id": "6be4b0d6-21b5-4dc3-b53e-432d68285e22",
   "metadata": {},
   "outputs": [],
   "source": [
    "df['monthlychargegroups'] = None\n",
    "df.monthlychargegroups = df.monthlychargegroups.astype('string')\n",
    "\n",
    "df.loc[(df['monthlycharges'] < 74.441332)  & (df['churn'] == 1),'monthlychargegroups'] = 'Low Monthly Charge'\n",
    "df.loc[(df['monthlycharges'] < 61.265124)  & (df['churn'] == 0),'monthlychargegroups'] = 'Low Monthly Charge'\n",
    "\n",
    "df.loc[(df['monthlycharges'] >= 74.441332) & (df['churn'] == 1),'monthlychargegroups'] = 'High Monthly Charge'\n",
    "df.loc[(df['monthlycharges'] >= 61.265124) & (df['churn'] == 0),'monthlychargegroups'] = 'High Monthly Charge'\n",
    "\n",
    "\n",
    "MonthlyChargesGroups = df.groupby('monthlychargegroups').churn.mean().sort_values()\n",
    "\n",
    "Colors    = [\"#5B7DB1\",\"#61A4BC\"]\n",
    "\n",
    "plt.figure                     (figsize = (10,10)                                              )\n",
    "ax = MonthlyChargesGroups.plot (kind='bar',   color = Colors                                   )\n",
    "plt.xlabel                     (None                                                           )\n",
    "plt.ylabel                     (None                                                           )\n",
    "plt.title                      ('Churn by Monthly Charge Rate', fontsize = 16, loc='left'      )\n",
    "plt.xticks                     (size = 14, rotation = 0                                        )\n",
    "plt.yticks                     (plt.yticks()[0], ['{:,.0%}'.format(x) for x in plt.yticks()[0]])\n",
    "\n",
    "for p in ax.patches:\n",
    "    ax.annotate('{:.1f}%'.format(100*p.get_height()), (p.get_x() * 1.005, p.get_height() * 1.005),size = 15,color = '#545454')\n",
    "\n",
    "plt.show                       (                                                               )"
   ]
  },
  {
   "cell_type": "markdown",
   "id": "6e77f9b1-22f6-4af8-a544-d27ea388c359",
   "metadata": {},
   "source": [
    "##### Scatter Churn by Contract types\n",
    "***"
   ]
  },
  {
   "cell_type": "code",
   "execution_count": null,
   "id": "abc80a7f-e2f5-4f9c-9b18-094d2acb4aba",
   "metadata": {},
   "outputs": [],
   "source": [
    "sns.set_style('ticks')\n",
    "\n",
    "sns.relplot(data=df, x=\"monthlycharges\", y=\"totalcharges\",hue=\"contract\",col = 'churn')\n",
    "plt.gcf().set_size_inches(20, 10)\n",
    "\n",
    "sns.despine()"
   ]
  },
  {
   "cell_type": "code",
   "execution_count": null,
   "id": "abc52e9f-90b5-4218-9992-bdade43fe109",
   "metadata": {},
   "outputs": [],
   "source": [
    "sns.relplot(data=df, x=\"tenuregroup\", y=\"churn\",\n",
    "    hue=\"contract\", kind=\"line\",col = 'contract')\n",
    "sns.despine()"
   ]
  },
  {
   "cell_type": "markdown",
   "id": "775bd2df-4a8f-47a3-b450-bc083bcc53f6",
   "metadata": {},
   "source": [
    "###"
   ]
  },
  {
   "cell_type": "markdown",
   "id": "0349fa2b-4672-462a-a4c8-a897699539be",
   "metadata": {},
   "source": [
    "#### Correlation\n",
    "\n",
    "***"
   ]
  },
  {
   "cell_type": "markdown",
   "id": "e222f94f-6226-4480-88c8-17f74923ba33",
   "metadata": {},
   "source": [
    "###"
   ]
  },
  {
   "cell_type": "code",
   "execution_count": null,
   "id": "fe5b80d7-4e82-47b7-9870-f6012b91632c",
   "metadata": {},
   "outputs": [],
   "source": [
    "dfcorr = df"
   ]
  },
  {
   "cell_type": "code",
   "execution_count": null,
   "id": "9ab078be-d918-41d8-ab1e-ee6486a711e5",
   "metadata": {},
   "outputs": [],
   "source": [
    "dfcorr = df.drop(['customerid','tenure','totalcharges','monthlychargegroups'], axis=1)"
   ]
  },
  {
   "cell_type": "code",
   "execution_count": null,
   "id": "bc01301f-4ab2-46b8-b10d-44c2aa24a154",
   "metadata": {},
   "outputs": [],
   "source": [
    "dfcorr.dtypes"
   ]
  },
  {
   "cell_type": "code",
   "execution_count": null,
   "id": "3c1b88d5-2ea4-469e-876c-76d0d6983e58",
   "metadata": {},
   "outputs": [],
   "source": [
    "dfcorr = pd.get_dummies(dfcorr,columns = ['gender','tenuregroup','internetservice','contract','paymentmethod'])\n",
    "dfcorr.insert(0, 'churn', dfcorr.pop('churn'))\n",
    "dfcorr.dtypes"
   ]
  },
  {
   "cell_type": "code",
   "execution_count": null,
   "id": "1491c997-d257-478d-8fe2-bd3ece830269",
   "metadata": {},
   "outputs": [],
   "source": [
    "plt.figure   (figsize=(30, 15)                                            )\n",
    "sns.heatmap  (dfcorr.corr()[['churn']].sort_values(by='churn', ascending=False), \n",
    "              vmin=-1, vmax=1, annot=True, cmap='BrBG').set_title('Correlation Heatmap by Churn', fontdict={'fontsize':15}, pad=12);\n",
    "plt.yticks   (size = 13                                                   )\n",
    "plt.xticks   ([]                                                          )\n",
    "plt.savefig  ('heatmap.png', dpi=300, bbox_inches='tight'                 )\n",
    "plt.show     (                                                            )"
   ]
  },
  {
   "cell_type": "code",
   "execution_count": null,
   "id": "d72753a0-6b8e-4b2d-ad8b-cf9f34382315",
   "metadata": {},
   "outputs": [],
   "source": [
    "plt.figure(figsize=(30, 15))\n",
    "\n",
    "mask = np.triu(np.ones_like(dfcorr.corr(), dtype=np.bool))\n",
    "\n",
    "sns.heatmap(dfcorr.corr().sort_values(by='churn', ascending=True), vmin=-1, vmax=1, annot=True, cmap='BrBG',mask=mask);\n",
    "plt.yticks (size = 12                                           )\n",
    "\n",
    "plt.savefig('heatmap.png', dpi=300, bbox_inches='tight')\n",
    "\n",
    "plt.show()"
   ]
  },
  {
   "cell_type": "markdown",
   "id": "ec59c119-fac3-4648-a0dd-fe58b15fbbf3",
   "metadata": {},
   "source": [
    "###"
   ]
  },
  {
   "cell_type": "markdown",
   "id": "b2b2adbe-6208-4848-b456-0192b7b5d8f6",
   "metadata": {},
   "source": [
    "#### Machine Learning\n",
    "***"
   ]
  },
  {
   "cell_type": "markdown",
   "id": "c4b2166c-2e3d-41e5-b46c-eda887c83a1f",
   "metadata": {},
   "source": [
    "###"
   ]
  },
  {
   "cell_type": "code",
   "execution_count": null,
   "id": "c760f455-318c-44ca-be30-7cc51e1adbb4",
   "metadata": {},
   "outputs": [],
   "source": [
    "dfml = df"
   ]
  },
  {
   "cell_type": "code",
   "execution_count": null,
   "id": "e62f6211-33ab-4d12-ae3a-55e0c53b1b42",
   "metadata": {},
   "outputs": [],
   "source": [
    "dfml = dfml.set_index('customerid')\n",
    "dfml = dfml.rename_axis(None, axis = 0)\n",
    "dfml['customerid'] = np.arange(len(df))\n",
    "dfml.insert(0, 'customerid', dfml.pop('customerid'))"
   ]
  },
  {
   "cell_type": "code",
   "execution_count": null,
   "id": "ca45b35e-aa7f-4af6-afae-4436172fe84d",
   "metadata": {},
   "outputs": [],
   "source": [
    "dfml.dtypes"
   ]
  },
  {
   "cell_type": "code",
   "execution_count": null,
   "id": "85e168b3-9ad5-4dca-b1af-ca4871de9246",
   "metadata": {},
   "outputs": [],
   "source": [
    "dfml = dfml.drop(['totalcharges','tenuregroup','monthlychargegroups'], axis=1)"
   ]
  },
  {
   "cell_type": "code",
   "execution_count": null,
   "id": "cc181904-1e8a-4190-9f16-b5ca775ec9de",
   "metadata": {},
   "outputs": [],
   "source": [
    "dfml = pd.get_dummies(dfml,columns = ['gender','internetservice','contract','paymentmethod'])"
   ]
  },
  {
   "cell_type": "code",
   "execution_count": null,
   "id": "a7fe47da-f413-47f4-8a31-f4b3adf30976",
   "metadata": {},
   "outputs": [],
   "source": [
    "dfml = dfml.astype(float)"
   ]
  },
  {
   "cell_type": "code",
   "execution_count": null,
   "id": "17fb9208-6b01-4722-b6f0-d111623a972d",
   "metadata": {},
   "outputs": [],
   "source": [
    "from sklearn.model_selection import train_test_split\n",
    "\n",
    "# 1409 = 20% \n",
    "# 5634 = 80%\n",
    "\n",
    "test_size = 1409\n",
    "train, test = train_test_split(dfml, test_size = test_size, random_state = 0, shuffle = True)\n",
    "\n",
    "label = 'churn'\n",
    "cusid = 'customerid'\n",
    "\n",
    "x_train = train.drop(label, axis = 1)\n",
    "x_train = x_train.drop(cusid, axis = 1)\n",
    "y_train = train[label]\n",
    "cusid_train = train[cusid]\n",
    "\n",
    "x_test = test.drop(label, axis = 1)\n",
    "x_test = x_test.drop(cusid, axis = 1)\n",
    "y_test = test[label]\n",
    "cusid_test = test[cusid]"
   ]
  },
  {
   "cell_type": "markdown",
   "id": "dbc7305b-0329-4573-9deb-9e6cd105d015",
   "metadata": {},
   "source": [
    "#### Decision Tree"
   ]
  },
  {
   "cell_type": "code",
   "execution_count": null,
   "id": "74d46c12-7359-4a8e-a6ec-4d8a06abd8f0",
   "metadata": {},
   "outputs": [],
   "source": [
    "from sklearn.tree import DecisionTreeClassifier\n",
    "\n",
    "clf = DecisionTreeClassifier(max_depth = 3)\n",
    "clf.fit(x_train, y_train)\n",
    "y_test_pred_DecisionTree = clf.predict(x_test)\n",
    "\n",
    "output = pd.DataFrame({'CustomerID':cusid_test,'Churn Fact':y_test, 'Churn Predict By Model':y_test_pred_DecisionTree})\n",
    "output.to_csv('DecisionTreeClassifier.csv',index = False)"
   ]
  },
  {
   "cell_type": "code",
   "execution_count": null,
   "id": "74ca8302-ac1f-4db8-8005-022dbd71d4ee",
   "metadata": {},
   "outputs": [],
   "source": [
    "from sklearn.tree import DecisionTreeClassifier, export_graphviz\n",
    "from IPython.display import SVG\n",
    "from graphviz import Source\n",
    "from IPython.display import display\n",
    "from sklearn.metrics import accuracy_score\n",
    "\n",
    "\n",
    "def plot_tree(tree,features,labels):\n",
    "    graph = Source(export_graphviz(tree,feature_names = features, class_names = labels, filled = True))\n",
    "    display(SVG(graph.pipe(format = 'svg')))\n",
    "    \n",
    "plot_tree(clf, x_train.columns,['Active','Churn'])"
   ]
  },
  {
   "cell_type": "code",
   "execution_count": null,
   "id": "6c77062f-49d4-4bd9-a5f4-7e1cba300496",
   "metadata": {},
   "outputs": [],
   "source": [
    "# Test the Decision Tree \n",
    "\n",
    "clf = DecisionTreeClassifier(max_depth=5)\n",
    "clf.fit(x_train, y_train)\n",
    "y_test_pred_DecisionTree = clf.predict(x_test)\n",
    "test_acc = accuracy_score(y_test, y_test_pred_DecisionTree)\n",
    "test_acc"
   ]
  },
  {
   "cell_type": "markdown",
   "id": "ea7afa44-a871-4674-9dd0-26f923aee72f",
   "metadata": {},
   "source": [
    "#### Random Forest"
   ]
  },
  {
   "cell_type": "code",
   "execution_count": null,
   "id": "1324c137-5d65-4b18-b801-c38a18f344a4",
   "metadata": {},
   "outputs": [],
   "source": [
    "from sklearn.ensemble import RandomForestClassifier\n",
    "\n",
    "model = RandomForestClassifier(n_estimators=999, max_depth=3, random_state=1)\n",
    "\n",
    "model.fit(x_train, y_train) \n",
    "\n",
    "y_test_pred_RandomForest = model.predict(x_test) \n",
    "\n",
    "output = pd.DataFrame({'CustomerID':cusid_test,'Churn Fact':y_test, 'Churn Predict By Model':y_test_pred_RandomForest})\n",
    "output.to_csv('RandomForest_Prediction.csv',index = False)"
   ]
  },
  {
   "cell_type": "code",
   "execution_count": null,
   "id": "8f323171-2e28-487d-b9c0-451109d496dd",
   "metadata": {},
   "outputs": [],
   "source": [
    "feature_importances = model.feature_importances_\n",
    "feature_importances "
   ]
  },
  {
   "cell_type": "code",
   "execution_count": null,
   "id": "c31a3ed3-7b2d-4592-b876-ccecc707a163",
   "metadata": {},
   "outputs": [],
   "source": [
    "features = x_train.columns\n",
    "stats = pd.DataFrame({'feature':features, 'importance':feature_importances})\n",
    "stats.sort_values('importance', ascending=False)\n",
    "\n",
    "Colors    = [\"#5B7DB1\",\"#61A4BC\"]\n",
    "\n",
    "stats_sort = stats.sort_values('importance', ascending=True)\n",
    "stats_sort.plot(y='importance', x='feature', kind='barh', figsize = (15,10),color = Colors)\n",
    "plt.title('Feature Importance of Random Forest');\n",
    "\n",
    "plt.xticks                     (plt.xticks()[0], ['{:,.0%}'.format(x) for x in plt.xticks()[0]])\n",
    "\n",
    "plt.savefig                    ('Churn by Citizen Seniority.png', dpi=300, bbox_inches='tight' )"
   ]
  },
  {
   "cell_type": "code",
   "execution_count": null,
   "id": "fa238696-6938-4795-8d1a-4d2997ada1cc",
   "metadata": {},
   "outputs": [],
   "source": [
    "# Test the Random Forest\n",
    "\n",
    "model = RandomForestClassifier(n_estimators=16, max_depth=6, random_state=1)        \n",
    "model.fit(x_train, y_train)\n",
    "y_test_pred_RandomForest = model.predict(x_test)\n",
    "test_acc = accuracy_score(y_test, y_test_pred_RandomForest)\n",
    "test_acc"
   ]
  },
  {
   "cell_type": "markdown",
   "id": "294e0ede-0516-4a95-84e7-dcdfd98fb1e6",
   "metadata": {},
   "source": [
    "#### K Nearest Neighbors\n"
   ]
  },
  {
   "cell_type": "code",
   "execution_count": null,
   "id": "e2a0a74c-d01f-4729-a0be-f5ecb2af0440",
   "metadata": {},
   "outputs": [],
   "source": [
    "from sklearn.neighbors import KNeighborsClassifier\n",
    "\n",
    "clf = KNeighborsClassifier(n_neighbors=3)\n",
    "\n",
    "clf.fit(x_train, y_train)\n",
    "\n",
    "y_test_pred_Knn = clf.predict(x_test) \n",
    "\n",
    "output = pd.DataFrame({'CustomerID': cusid_test, 'Churn Fact':y_test, 'Churn Predict By Model': y_test_pred_Knn})\n",
    "output.to_csv('Knn_Prediction.csv', index=False)\n",
    "output"
   ]
  },
  {
   "cell_type": "code",
   "execution_count": null,
   "id": "33d6f86b-3738-4d5b-a058-c35516a01dd1",
   "metadata": {},
   "outputs": [],
   "source": [
    "# Test the Knn\n",
    "\n",
    "clf = KNeighborsClassifier(n_neighbors=21)\n",
    "clf.fit(x_train, y_train)\n",
    "y_test_pred_Knn = clf.predict(x_test)\n",
    "test_acc = accuracy_score(y_test, y_test_pred_Knn)\n",
    "test_acc"
   ]
  },
  {
   "cell_type": "markdown",
   "id": "44a2d584-2a1d-48b9-82e7-11c87e9d1cc5",
   "metadata": {},
   "source": [
    "#### Reduce Overfitting"
   ]
  },
  {
   "cell_type": "code",
   "execution_count": null,
   "id": "a91ee742-dc95-4bae-baf7-110f05708c51",
   "metadata": {},
   "outputs": [],
   "source": [
    "from sklearn.preprocessing import StandardScaler\n",
    "\n",
    "scaler = StandardScaler()\n",
    "\n",
    "x_train_scaled = scaler.fit_transform(x_train) \n",
    "x_test_scaled = scaler.transform(x_test)\n",
    "\n",
    "clf = KNeighborsClassifier(n_neighbors=21)\n",
    "clf.fit(x_train_scaled, y_train)\n",
    "\n",
    "y_test_pred_Knn_Scaled = clf.predict(x_test_scaled)\n",
    "\n",
    "\n",
    "output = pd.DataFrame({'CustomerID': cusid_test, 'Churn Fact':y_test, 'Churn Predict By Model': y_test_pred_Knn, 'Churn_predicted_by_model_scaled':y_test_pred_Knn_Scaled})\n",
    "output.to_csv('Knn_Prediction_scaled.csv', index=False)\n",
    "\n",
    "\n",
    "test_acc = accuracy_score(y_test, y_test_pred_Knn_Scaled)\n",
    "test_acc"
   ]
  },
  {
   "cell_type": "markdown",
   "id": "e3927bf2-9b28-439c-ba7f-a772c3eae661",
   "metadata": {},
   "source": [
    "#### Benchmark"
   ]
  },
  {
   "cell_type": "code",
   "execution_count": null,
   "id": "8de3bb9d-0406-4761-83e9-40856f41dd23",
   "metadata": {},
   "outputs": [],
   "source": [
    "y_train.value_counts()"
   ]
  },
  {
   "cell_type": "code",
   "execution_count": null,
   "id": "0b0bd53e-c262-4a27-b329-738226979130",
   "metadata": {},
   "outputs": [],
   "source": [
    "def get_benchmark_predictions(x, benchmark_value): # The function returns a numpy array on the same length as x with all values equal to benchmark_value\n",
    "    return np.ones(len(x))*benchmark_value\n",
    "\n",
    "benchmark_value = 0\n",
    "\n",
    "y_test_pred_Benchmark = get_benchmark_predictions(x_test, benchmark_value)\n",
    "y_test_pred_Benchmark"
   ]
  },
  {
   "cell_type": "code",
   "execution_count": null,
   "id": "71fe150f-ba2c-4a8c-a9d0-4acbc03c880e",
   "metadata": {},
   "outputs": [],
   "source": [
    "test_acc = accuracy_score(y_test, y_test_pred_Benchmark)\n",
    "test_acc"
   ]
  },
  {
   "cell_type": "markdown",
   "id": "a6dae64a-7972-493a-9db0-48cf3d569658",
   "metadata": {},
   "source": [
    "### Our model results:\n",
    "Decision tree best accuracy Result: 78.28%<br>\n",
    "Random Forest best accuracy Result: 79.98%<br>\n",
    "Knn best accuracy Result (before standardization): 77.9%<br>\n",
    "Knn best accuracy Result (after standardization): 77.9%<br>"
   ]
  }
 ],
 "metadata": {
  "kernelspec": {
   "display_name": "Python 3",
   "language": "python",
   "name": "python3"
  },
  "language_info": {
   "codemirror_mode": {
    "name": "ipython",
    "version": 3
   },
   "file_extension": ".py",
   "mimetype": "text/x-python",
   "name": "python",
   "nbconvert_exporter": "python",
   "pygments_lexer": "ipython3",
   "version": "3.8.8"
  }
 },
 "nbformat": 4,
 "nbformat_minor": 5
}
